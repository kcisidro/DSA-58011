{
  "nbformat": 4,
  "nbformat_minor": 0,
  "metadata": {
    "colab": {
      "provenance": [],
      "authorship_tag": "ABX9TyPSEccStShdxfhcQRCd0OKi",
      "include_colab_link": true
    },
    "kernelspec": {
      "name": "python3",
      "display_name": "Python 3"
    },
    "language_info": {
      "name": "python"
    }
  },
  "cells": [
    {
      "cell_type": "markdown",
      "metadata": {
        "id": "view-in-github",
        "colab_type": "text"
      },
      "source": [
        "<a href=\"https://colab.research.google.com/github/kcisidro/DSA-58011/blob/main/Long_quiz_1.ipynb\" target=\"_parent\"><img src=\"https://colab.research.google.com/assets/colab-badge.svg\" alt=\"Open In Colab\"/></a>"
      ]
    },
    {
      "cell_type": "markdown",
      "source": [
        "Create a python program that inserts each character of your full name\n",
        "#Array\n"
      ],
      "metadata": {
        "id": "DM6oDcPUnJel"
      }
    },
    {
      "cell_type": "code",
      "source": [
        "arr = [\"Kassandra\",\"Claudette\",\"Perello\",\"Isidro\"]\n",
        "print(\"Full Name: \", arr)\n",
        "\n",
        "res = arr[::-1]\n",
        "print(\"Reveresed Name: \", res)"
      ],
      "metadata": {
        "colab": {
          "base_uri": "https://localhost:8080/"
        },
        "id": "KqxEago-nJv_",
        "outputId": "f9032bbe-16fb-44fd-d019-bfe28a453397"
      },
      "execution_count": 3,
      "outputs": [
        {
          "output_type": "stream",
          "name": "stdout",
          "text": [
            "Full Name:  ['Kassandra', 'Claudette', 'Perello', 'Isidro']\n",
            "Reveresed Name:  ['Isidro', 'Perello', 'Claudette', 'Kassandra']\n"
          ]
        }
      ]
    }
  ]
}