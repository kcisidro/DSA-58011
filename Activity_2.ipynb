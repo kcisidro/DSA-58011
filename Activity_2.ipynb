{
  "nbformat": 4,
  "nbformat_minor": 0,
  "metadata": {
    "colab": {
      "provenance": [],
      "authorship_tag": "ABX9TyMTuMV3kPYIDJfYn7ZA0aWw",
      "include_colab_link": true
    },
    "kernelspec": {
      "name": "python3",
      "display_name": "Python 3"
    },
    "language_info": {
      "name": "python"
    }
  },
  "cells": [
    {
      "cell_type": "markdown",
      "metadata": {
        "id": "view-in-github",
        "colab_type": "text"
      },
      "source": [
        "<a href=\"https://colab.research.google.com/github/kcisidro/DSA-58011/blob/main/Activity_2.ipynb\" target=\"_parent\"><img src=\"https://colab.research.google.com/assets/colab-badge.svg\" alt=\"Open In Colab\"/></a>"
      ]
    },
    {
      "cell_type": "markdown",
      "source": [
        "#Write a Python program to create a By iterating through the list, display all the vowels, the head, and the tail of the list."
      ],
      "metadata": {
        "id": "8_EoBYmmhuAb"
      }
    },
    {
      "cell_type": "code",
      "source": [
        "class Vowel:\n",
        "  def __init__(self,data):\n",
        "    self.data = data\n",
        "    self.next = None\n",
        "\n",
        "class LinkedList:\n",
        "  def __init__(self):\n",
        "    self.head = None\n",
        "  def printList(self):\n",
        "    temp = self.head\n",
        "    while(temp):\n",
        "      print(temp.data)\n",
        "      temp = temp.next\n",
        "\n",
        "llist = LinkedList()\n",
        "\n",
        "llist.head = Vowel(\"a\")\n",
        "second = Vowel(\"e\")\n",
        "third = Vowel(\"i\")\n",
        "fourth = Vowel(\"o\")\n",
        "llist.tail = Vowel(\"u\")\n",
        "\n",
        "llist.head.next = second\n",
        "second.next = third\n",
        "third.next = fourth\n",
        "fourth.next = llist.tail\n",
        "\n",
        "llist.printList()\n",
        "\n",
        "print(\"Head of the list: a\",llist.head)\n",
        "print(\"Tail of the list: u\",llist.tail)"
      ],
      "metadata": {
        "colab": {
          "base_uri": "https://localhost:8080/"
        },
        "id": "6gQWUbU4hx6S",
        "outputId": "8a3d970d-920a-4ccf-adc8-192f90c21e9b"
      },
      "execution_count": 17,
      "outputs": [
        {
          "output_type": "stream",
          "name": "stdout",
          "text": [
            "a\n",
            "e\n",
            "i\n",
            "o\n",
            "u\n",
            "Head of the list: a <__main__.Vowel object at 0x7faf1bbc0210>\n",
            "Tail of the list: u <__main__.Vowel object at 0x7faf1bbc0d50>\n"
          ]
        }
      ]
    }
  ]
}