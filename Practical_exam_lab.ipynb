{
  "nbformat": 4,
  "nbformat_minor": 0,
  "metadata": {
    "colab": {
      "name": "Practical exam lab.ipynb",
      "provenance": [],
      "authorship_tag": "ABX9TyNrAGXckAYwicnXBO5M8xYg",
      "include_colab_link": true
    },
    "kernelspec": {
      "name": "python3",
      "display_name": "Python 3"
    },
    "language_info": {
      "name": "python"
    }
  },
  "cells": [
    {
      "cell_type": "markdown",
      "metadata": {
        "id": "view-in-github",
        "colab_type": "text"
      },
      "source": [
        "<a href=\"https://colab.research.google.com/github/kcisidro/DSA-58011/blob/main/Practical_exam_lab.ipynb\" target=\"_parent\"><img src=\"https://colab.research.google.com/assets/colab-badge.svg\" alt=\"Open In Colab\"/></a>"
      ]
    },
    {
      "cell_type": "code",
      "execution_count": null,
      "metadata": {
        "id": "aTjVNCY_sp94"
      },
      "outputs": [],
      "source": [
        "A = float(input(\"Enter the test score: \"))\n",
        "B = float(input(\"Enter the test score: \"))\n",
        "C = float(input(\"Enter the test score: \"))\n",
        "D = float(input(\"Enter the test score: \"))\n",
        "E = float(input(\"Enter the test score: \"))\n",
        "F = float(input(\"Enter the test score: \"))\n",
        "\n",
        "sum = int(A)+int(B)+int(C)+int(D)+int(E)+int(F)\n",
        "print(\"The total test score is: \", sum)"
      ]
    }
  ]
}