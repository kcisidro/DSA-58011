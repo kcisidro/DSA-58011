{
  "nbformat": 4,
  "nbformat_minor": 0,
  "metadata": {
    "colab": {
      "provenance": [],
      "authorship_tag": "ABX9TyN/KNVIwIKjDtZm6r49DLvP",
      "include_colab_link": true
    },
    "kernelspec": {
      "name": "python3",
      "display_name": "Python 3"
    },
    "language_info": {
      "name": "python"
    }
  },
  "cells": [
    {
      "cell_type": "markdown",
      "metadata": {
        "id": "view-in-github",
        "colab_type": "text"
      },
      "source": [
        "<a href=\"https://colab.research.google.com/github/kcisidro/DSA-58011/blob/main/Graphs_Demo_G20.ipynb\" target=\"_parent\"><img src=\"https://colab.research.google.com/assets/colab-badge.svg\" alt=\"Open In Colab\"/></a>"
      ]
    },
    {
      "cell_type": "markdown",
      "source": [
        "#DEMO\n",
        "\n",
        "1st Graph\n",
        "\n",
        "\n"
      ],
      "metadata": {
        "id": "-GAK0bzRx3U3"
      }
    },
    {
      "cell_type": "code",
      "execution_count": 1,
      "metadata": {
        "colab": {
          "base_uri": "https://localhost:8080/"
        },
        "id": "P-EnmXCPxqy_",
        "outputId": "001fc692-cbbe-4d07-e8f1-118860c84b4f"
      },
      "outputs": [
        {
          "output_type": "stream",
          "name": "stdout",
          "text": [
            "{'a': ['b', 'c'], 'b': ['a', 'd'], 'c': ['a', 'd'], 'd': ['b', 'c', 'd', 'e'], 'e': ['e']}\n"
          ]
        }
      ],
      "source": [
        "#Data Elements using Dictionaries to implement Graphs\n",
        "graph = {\n",
        "    'a': ['b','c'],\n",
        "    'b': ['a','d'],\n",
        "    'c': ['a','d'],\n",
        "    'd': ['b','c','d','e'],\n",
        "    'e': ['e']\n",
        "}\n",
        "print(graph)\n"
      ]
    },
    {
      "cell_type": "markdown",
      "source": [
        "2nd Graph"
      ],
      "metadata": {
        "id": "OF1Ix0YKyEYg"
      }
    },
    {
      "cell_type": "code",
      "source": [
        "#Application of Data elements using dictionaries to implement Graphs\n",
        "G20 = {\n",
        "    '1': ['4'],\n",
        "    '2': ['1','3','4'],\n",
        "    '3': ['2','4'],\n",
        "    '4': [],\n",
        "}\n",
        "print(G20)"
      ],
      "metadata": {
        "colab": {
          "base_uri": "https://localhost:8080/"
        },
        "id": "CyIHNGO4yMur",
        "outputId": "cb20607f-1aeb-4af3-f254-f2cbf1bfa0ab"
      },
      "execution_count": 2,
      "outputs": [
        {
          "output_type": "stream",
          "name": "stdout",
          "text": [
            "{'1': ['4'], '2': ['1', '3', '4'], '3': ['2', '4'], '4': []}\n"
          ]
        }
      ]
    }
  ]
}