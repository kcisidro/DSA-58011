{
  "nbformat": 4,
  "nbformat_minor": 0,
  "metadata": {
    "colab": {
      "name": "area of a circle.ipynb",
      "provenance": [],
      "authorship_tag": "ABX9TyO+VXS4YZC2BAyVfMVOms8R",
      "include_colab_link": true
    },
    "kernelspec": {
      "name": "python3",
      "display_name": "Python 3"
    },
    "language_info": {
      "name": "python"
    }
  },
  "cells": [
    {
      "cell_type": "markdown",
      "metadata": {
        "id": "view-in-github",
        "colab_type": "text"
      },
      "source": [
        "<a href=\"https://colab.research.google.com/github/kcisidro/DSA-58011/blob/main/area_of_a_circle.ipynb\" target=\"_parent\"><img src=\"https://colab.research.google.com/assets/colab-badge.svg\" alt=\"Open In Colab\"/></a>"
      ]
    },
    {
      "cell_type": "code",
      "source": [
        "class Circle:\n",
        "    def __init__(self, radius ):\n",
        "        self.radius = radius\n",
        "\n",
        "\n",
        "    def Perimeter(self) :\n",
        "        pi = 3.14\n",
        "        print(2 * pi * self.radius)\n",
        "\n",
        "C = Circle(2)\n",
        "C.Perimeter()"
      ],
      "metadata": {
        "id": "OfhmkhCqIn5v"
      },
      "execution_count": null,
      "outputs": []
    }
  ]
}