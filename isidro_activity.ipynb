{
  "nbformat": 4,
  "nbformat_minor": 0,
  "metadata": {
    "colab": {
      "provenance": [],
      "authorship_tag": "ABX9TyO+3aa6vK03xYzoBkDnJxl6",
      "include_colab_link": true
    },
    "kernelspec": {
      "name": "python3",
      "display_name": "Python 3"
    },
    "language_info": {
      "name": "python"
    }
  },
  "cells": [
    {
      "cell_type": "markdown",
      "metadata": {
        "id": "view-in-github",
        "colab_type": "text"
      },
      "source": [
        "<a href=\"https://colab.research.google.com/github/kcisidro/DSA-58011/blob/main/isidro_activity.ipynb\" target=\"_parent\"><img src=\"https://colab.research.google.com/assets/colab-badge.svg\" alt=\"Open In Colab\"/></a>"
      ]
    },
    {
      "cell_type": "markdown",
      "source": [],
      "metadata": {
        "id": "Tgg1E2wnhKuJ"
      }
    },
    {
      "cell_type": "markdown",
      "source": [
        "1. Write a Python program to create an array of 10 integers and display the array items. Access individual elements through indexes and compute for the sum.\n"
      ],
      "metadata": {
        "id": "eAPQ9YBthOO5"
      }
    },
    {
      "cell_type": "code",
      "source": [
        "import array as arr\n",
        "a = arr.array('i', [1,2,3,4,5,6,7,8,9,0])\n",
        "\n",
        "print(\"First element:\", a[0])\n",
        "print(\"Second element:\", a[1])\n",
        "print(\"Third element:\", a[2])\n",
        "print(\"Fourth element:\", a[3])\n",
        "print(\"Fifth element:\", a[4])\n",
        "print(\"Sixth element:\", a[5])\n",
        "print(\"Seventh element:\", a[6])\n",
        "print(\"Eighth element:\", a[7])\n",
        "print(\"Ninth element:\", a[8])\n",
        "print(\"Tenth element:\", a[9])\n",
        "\n",
        "def _sum(arr):\n",
        "    sum = 0\n",
        "    for i in arr:\n",
        "        sum = sum + i\n",
        "    return(sum)\n",
        "arr = []\n",
        "arr = [1,2,3,4,5,6,7,8,9,0]\n",
        "n = len(arr)\n",
        "ans = _sum(arr)\n",
        "print('Sum of the array is: ', ans)"
      ],
      "metadata": {
        "id": "97hv8FoqhK1M"
      },
      "execution_count": null,
      "outputs": []
    },
    {
      "cell_type": "markdown",
      "source": [
        "2. Write a Python program to append a new item to the end of the array. Original array: numbers = [1, 2, 3, 4, 5, 6, 7, 8, 9, 10]\n"
      ],
      "metadata": {
        "id": "p6S9nKK1UHwN"
      }
    },
    {
      "cell_type": "code",
      "source": [
        "import array as arr\n",
        "\n",
        "a = arr.array('i', [1,2,3,4,5,6,7,8,9,10])\n",
        " \n",
        "print (\"Array before insertion : \", end =\" \")\n",
        "for i in range (0, 10):\n",
        "    print (a[i], end =\" \")\n",
        "print()\n",
        "\n",
        "a.insert(10, 11)\n",
        " \n",
        "print (\"Array after insertion : \", end =\" \")\n",
        "for i in (a):\n",
        "    print (i, end =\" \")\n",
        "print()"
      ],
      "metadata": {
        "id": "GZFhOyw7hUSC"
      },
      "execution_count": null,
      "outputs": []
    },
    {
      "cell_type": "markdown",
      "source": [
        "3.Write a Python program to insert a new item before the second element in an existing array. Original array: numbers = [1, 2, 3, 4, 5, 6, 7, 8, 9, 10]"
      ],
      "metadata": {
        "id": "KfCiI4E0hWmt"
      }
    },
    {
      "cell_type": "code",
      "source": [
        "import array as arr\n",
        "\n",
        "a = arr.array('i', [1,2,3,4,5,6,7,8,9,10])\n",
        " \n",
        "print (\"Array before insertion : \", end =\" \")\n",
        "for i in range (0, 10):\n",
        "    print (a[i], end =\" \")\n",
        "print()\n",
        "\n",
        "a.insert(1, 11)\n",
        " \n",
        "print (\"Array after insertion : \", end =\" \")\n",
        "for i in (a):\n",
        "    print (i, end =\" \")\n",
        "print()"
      ],
      "metadata": {
        "id": "OPSQJyzdhZP7"
      },
      "execution_count": null,
      "outputs": []
    },
    {
      "cell_type": "markdown",
      "source": [],
      "metadata": {
        "id": "Z96VxGQHhbjY"
      }
    },
    {
      "cell_type": "markdown",
      "source": [
        "4.Write a Python program to reverse the order of the items in the array.Original array: numbers = [5, 4, 3, 2, 1]"
      ],
      "metadata": {
        "id": "A8JDhVARXokK"
      }
    },
    {
      "cell_type": "code",
      "source": [
        "arr = [1,2,3,4,5]\n",
        "print(\"Original Array :\",arr)\n",
        " \n",
        "res = arr[::-1]\n",
        "print(\"Reversed Array :\",res)\n"
      ],
      "metadata": {
        "id": "dQkKMQjxhc-e"
      },
      "execution_count": null,
      "outputs": []
    },
    {
      "cell_type": "markdown",
      "source": [
        "5.Write a Python program to get the length of the array. Original array: numbers = [5, 4, 3, 2, 1]"
      ],
      "metadata": {
        "id": "a5rGfznMhe-y"
      }
    },
    {
      "cell_type": "code",
      "source": [
        "from operator import length_hint \n",
        "inp_lst = [5,4,3,2,1]\n",
        "print(\"Length of the array:\")\n",
        "size = length_hint(inp_lst)\n",
        "print(size)\n"
      ],
      "metadata": {
        "id": "3znJuHD0hm2A"
      },
      "execution_count": null,
      "outputs": []
    }
  ]
}