{
  "nbformat": 4,
  "nbformat_minor": 0,
  "metadata": {
    "colab": {
      "name": "Question5.ipynb",
      "provenance": [],
      "authorship_tag": "ABX9TyOLea/KAJV+fNKwd45U5C3d",
      "include_colab_link": true
    },
    "kernelspec": {
      "name": "python3",
      "display_name": "Python 3"
    },
    "language_info": {
      "name": "python"
    }
  },
  "cells": [
    {
      "cell_type": "markdown",
      "metadata": {
        "id": "view-in-github",
        "colab_type": "text"
      },
      "source": [
        "<a href=\"https://colab.research.google.com/github/kcisidro/DSA-58011/blob/main/Question5.ipynb\" target=\"_parent\"><img src=\"https://colab.research.google.com/assets/colab-badge.svg\" alt=\"Open In Colab\"/></a>"
      ]
    },
    {
      "cell_type": "code",
      "source": [
        "class Rectangle:\n",
        "  def __iniit__(self, length, width):\n",
        "    self.length = length\n",
        "    self.width = width\n",
        "\n",
        "    def Perimeter(self):\n",
        "      print(2*(self.length + self.width))\n",
        "\n",
        "rect = Rectamgle(7,3)\n",
        "rect.Perimeter\n"
      ],
      "metadata": {
        "id": "EW2IMeS2XDJb"
      },
      "execution_count": null,
      "outputs": []
    }
  ]
}