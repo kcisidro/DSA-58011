{
  "nbformat": 4,
  "nbformat_minor": 0,
  "metadata": {
    "colab": {
      "name": "Array.ipynb",
      "provenance": [],
      "authorship_tag": "ABX9TyP1lT0SPF+Hl0Ppv2lCfvp2",
      "include_colab_link": true
    },
    "kernelspec": {
      "name": "python3",
      "display_name": "Python 3"
    },
    "language_info": {
      "name": "python"
    }
  },
  "cells": [
    {
      "cell_type": "markdown",
      "metadata": {
        "id": "view-in-github",
        "colab_type": "text"
      },
      "source": [
        "<a href=\"https://colab.research.google.com/github/kcisidro/DSA-58011/blob/main/Array.ipynb\" target=\"_parent\"><img src=\"https://colab.research.google.com/assets/colab-badge.svg\" alt=\"Open In Colab\"/></a>"
      ]
    },
    {
      "cell_type": "markdown",
      "source": [
        "#Accessing Elements in the Array\n"
      ],
      "metadata": {
        "id": "Ze3MksnHMmIP"
      }
    },
    {
      "cell_type": "code",
      "source": [
        "animals = ['cat','dog','fish']\n",
        "x = animals[0]\n",
        "print(x)"
      ],
      "metadata": {
        "colab": {
          "base_uri": "https://localhost:8080/"
        },
        "id": "_nodX4lJMunj",
        "outputId": "ffb8bdc3-665c-493b-f80e-cc983d892f1f"
      },
      "execution_count": 1,
      "outputs": [
        {
          "output_type": "stream",
          "name": "stdout",
          "text": [
            "cat\n"
          ]
        }
      ]
    },
    {
      "cell_type": "markdown",
      "source": [
        "#Modifying Elements in the Array"
      ],
      "metadata": {
        "id": "miclufPmM9GH"
      }
    },
    {
      "cell_type": "code",
      "source": [
        "animals = ['cat','dog','fish']\n",
        "animals[0] = 'monkey'\n",
        "x = animals[0]\n",
        "x = len(animals)\n",
        "print(x)"
      ],
      "metadata": {
        "colab": {
          "base_uri": "https://localhost:8080/"
        },
        "id": "xKMctMzANB9s",
        "outputId": "ac97ed07-9c5b-4ff7-8c16-1a1f13659d06"
      },
      "execution_count": 2,
      "outputs": [
        {
          "output_type": "stream",
          "name": "stdout",
          "text": [
            "3\n"
          ]
        }
      ]
    },
    {
      "cell_type": "markdown",
      "source": [
        "#Looping Array Elements"
      ],
      "metadata": {
        "id": "zXWaJm16NdhW"
      }
    },
    {
      "cell_type": "code",
      "source": [
        "animals = ['cat','dog','fish']\n",
        "for x in animals:\n",
        "  print(x)"
      ],
      "metadata": {
        "colab": {
          "base_uri": "https://localhost:8080/"
        },
        "id": "1ru5NO17NgW5",
        "outputId": "37061362-24a0-43bc-b883-ea576ad15706"
      },
      "execution_count": 3,
      "outputs": [
        {
          "output_type": "stream",
          "name": "stdout",
          "text": [
            "cat\n",
            "dog\n",
            "fish\n"
          ]
        }
      ]
    },
    {
      "cell_type": "markdown",
      "source": [
        "#Adding Elements in the Array"
      ],
      "metadata": {
        "id": "2bvDJG-dNpE3"
      }
    },
    {
      "cell_type": "code",
      "source": [
        "animals = ['cat','dog','fish']\n",
        "animals.append('monkey')\n",
        "print(animals)"
      ],
      "metadata": {
        "colab": {
          "base_uri": "https://localhost:8080/"
        },
        "id": "7iwGxh5rNs1D",
        "outputId": "44ed218a-c2f6-4a90-aaab-bb2582ab9e1b"
      },
      "execution_count": 4,
      "outputs": [
        {
          "output_type": "stream",
          "name": "stdout",
          "text": [
            "['cat', 'dog', 'fish', 'monkey']\n"
          ]
        }
      ]
    },
    {
      "cell_type": "markdown",
      "source": [
        "#Removing an Elements in the Array"
      ],
      "metadata": {
        "id": "dH_A7aQxODdO"
      }
    },
    {
      "cell_type": "code",
      "source": [
        "animals = ['cat','dog','fish']\n",
        "animals.pop(1)\n",
        "animals.pop(0)\n",
        "print(animals)\n"
      ],
      "metadata": {
        "colab": {
          "base_uri": "https://localhost:8080/"
        },
        "id": "wc1x9IeOOHTA",
        "outputId": "05a91fdd-d9ce-41fa-963e-dfcb3c0cf5fb"
      },
      "execution_count": 6,
      "outputs": [
        {
          "output_type": "stream",
          "name": "stdout",
          "text": [
            "['fish']\n"
          ]
        }
      ]
    }
  ]
}