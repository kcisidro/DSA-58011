{
  "nbformat": 4,
  "nbformat_minor": 0,
  "metadata": {
    "colab": {
      "provenance": [],
      "authorship_tag": "ABX9TyOt4vp7xiqNFDwB+blctBxL",
      "include_colab_link": true
    },
    "kernelspec": {
      "name": "python3",
      "display_name": "Python 3"
    },
    "language_info": {
      "name": "python"
    }
  },
  "cells": [
    {
      "cell_type": "markdown",
      "metadata": {
        "id": "view-in-github",
        "colab_type": "text"
      },
      "source": [
        "<a href=\"https://colab.research.google.com/github/kcisidro/DSA-58011/blob/main/Lab_1_Group_2.ipynb\" target=\"_parent\"><img src=\"https://colab.research.google.com/assets/colab-badge.svg\" alt=\"Open In Colab\"/></a>"
      ]
    },
    {
      "cell_type": "markdown",
      "source": [],
      "metadata": {
        "id": "4QVjBXDXsHAg"
      }
    },
    {
      "cell_type": "code",
      "source": [
        "class Polygons:\n",
        "  def __init__(self, name, sides):\n",
        "   self.name = name\n",
        "   self.sides = sides\n",
        " \n",
        "  def square(self):\n",
        "    print(\"Name of the Polygon:\", self.name)\n",
        "    print(\"The sides are: \" , self.sides)\n",
        "\n",
        "\n",
        "x = Polygons(\"Square\", \"4\")\n",
        "x.square()\n",
        "\n",
        "width = int(input(\"Enter the Width value:\"))\n",
        "height = int(input(\"Enter the height value:\"))\n",
        "print(\"The area is:\" , width * height)"
      ],
      "metadata": {
        "colab": {
          "base_uri": "https://localhost:8080/"
        },
        "id": "gBquZ9Ew6VCH",
        "outputId": "1ffc2b2e-c743-488c-dfb5-4cc54897387a"
      },
      "execution_count": 24,
      "outputs": [
        {
          "output_type": "stream",
          "name": "stdout",
          "text": [
            "Name of the Polygon: Square\n",
            "The sides are:  4\n",
            "Enter the Width value:5\n",
            "Enter the height value:5\n",
            "The area is: 25\n"
          ]
        }
      ]
    }
  ]
}